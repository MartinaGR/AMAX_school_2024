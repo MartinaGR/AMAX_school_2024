{
  "cells": [
    {
      "cell_type": "markdown",
      "metadata": {
        "id": "view-in-github",
        "colab_type": "text"
      },
      "source": [
        "<a href=\"https://colab.research.google.com/github/MartinaGR/AMAX_school_2024/blob/main/notebook1_Martina.ipynb\" target=\"_parent\"><img src=\"https://colab.research.google.com/assets/colab-badge.svg\" alt=\"Open In Colab\"/></a>"
      ]
    },
    {
      "cell_type": "markdown",
      "metadata": {
        "id": "qHUJ-9Vn8IOp"
      },
      "source": [
        "# Introduction to Python"
      ]
    },
    {
      "cell_type": "markdown",
      "metadata": {
        "id": "wqYKr8VQ8IOr"
      },
      "source": [
        "## 1. Basic Syntax"
      ]
    },
    {
      "cell_type": "markdown",
      "metadata": {
        "id": "9wCcMHgI8IOs"
      },
      "source": [
        "Here is an example of a small Python program:"
      ]
    },
    {
      "cell_type": "code",
      "execution_count": 1,
      "metadata": {
        "id": "FkWJKE0b8IOs",
        "colab": {
          "base_uri": "https://localhost:8080/"
        },
        "outputId": "d730af05-0f3c-45d1-9013-241c9e491bac"
      },
      "outputs": [
        {
          "output_type": "stream",
          "name": "stdout",
          "text": [
            "Hello!\n",
            "5\n",
            "This is a gathering\n"
          ]
        }
      ],
      "source": [
        "# Any line that starts with # is ignored. It is a comment.\n",
        "\n",
        "# Declaring variables\n",
        "greeting = \"Hello!\" # This stores the string Hello in the variable greeting\n",
        "nb_of_people = 5 # This stores the value 5 in the variable nb_of_people\n",
        "\n",
        "print(greeting)\n",
        "print(nb_of_people)\n",
        "\n",
        "# A simple conditional structure\n",
        "if (nb_of_people < 3):\n",
        "    print(\"This is a small group\")\n",
        "else:\n",
        "    print(\"This is a gathering\")"
      ]
    },
    {
      "cell_type": "markdown",
      "metadata": {
        "id": "e3T0-A7X8IOt"
      },
      "source": [
        "**Exercise:**\n",
        "\n",
        "Write a program that prints \"Hello World\""
      ]
    },
    {
      "cell_type": "code",
      "execution_count": 3,
      "metadata": {
        "id": "lGb3KPYL8IOt",
        "colab": {
          "base_uri": "https://localhost:8080/"
        },
        "outputId": "be72545a-cd94-46f0-b44a-e816411ea2df"
      },
      "outputs": [
        {
          "output_type": "stream",
          "name": "stdout",
          "text": [
            "hello!\n"
          ]
        }
      ],
      "source": [
        "# Your code here\n",
        "word = \"hello!\"\n",
        "\n",
        "print(word)"
      ]
    },
    {
      "cell_type": "markdown",
      "metadata": {
        "id": "chpCnMIQ8IOu"
      },
      "source": [
        "## 2. Variables and Basic Data Types"
      ]
    },
    {
      "cell_type": "markdown",
      "metadata": {
        "id": "9KsBkvgl8IOu"
      },
      "source": [
        "### Creating and Assigning Variables"
      ]
    },
    {
      "cell_type": "code",
      "execution_count": 15,
      "metadata": {
        "id": "fqmnSrSf8IOu",
        "colab": {
          "base_uri": "https://localhost:8080/"
        },
        "outputId": "bcda3ab5-fa42-458a-831c-ce5a72f7ee49"
      },
      "outputs": [
        {
          "output_type": "stream",
          "name": "stdout",
          "text": [
            "Martina\n"
          ]
        }
      ],
      "source": [
        "# Variables can store data of different types, and different types can do different things.\n",
        "\n",
        "# Text Type: str (string)\n",
        "\n",
        "myName = \"Martina\"\n",
        "\n",
        "# Numeric Types: int, float, complex\n",
        "\n",
        "y = 2 #Int\n",
        "heigth = 1.62  #Float\n",
        "complex = 3+5j\n",
        "\n",
        "# Sequence Types: list, tuple, range\n",
        "\n",
        "myList = [1,2,3,4,5]  #Store of one type of variables\n",
        "\n",
        "# Print variable values\n",
        "print(my_name)\n"
      ]
    },
    {
      "cell_type": "markdown",
      "metadata": {
        "id": "NtdzfpP68IOv"
      },
      "source": [
        "### Numbers"
      ]
    },
    {
      "cell_type": "code",
      "execution_count": 12,
      "metadata": {
        "id": "WSiWiSRq8IOv",
        "colab": {
          "base_uri": "https://localhost:8080/"
        },
        "outputId": "dfb255e6-a6fe-4427-8a1e-79f1124987ac"
      },
      "outputs": [
        {
          "output_type": "stream",
          "name": "stdout",
          "text": [
            "5\n",
            "8\n",
            "8\n",
            "5.333333333333333\n",
            "2\n",
            "1\n"
          ]
        }
      ],
      "source": [
        "# Working with numbers\n",
        "\n",
        "# Addition, subtraction\n",
        "x = 4\n",
        "print(3+2)\n",
        "print(4+x)\n",
        "\n",
        "# Multiplication, division\n",
        "\n",
        "print(4*2)\n",
        "print(16/3)\n",
        "\n",
        "# Modulus, exponentiation, floor division\n",
        "\n",
        "print(9%7)\n",
        "print(3**2)\n",
        "\n"
      ]
    },
    {
      "cell_type": "markdown",
      "metadata": {
        "id": "VFd5rvVV8IOv"
      },
      "source": [
        "### Strings"
      ]
    },
    {
      "cell_type": "code",
      "execution_count": 21,
      "metadata": {
        "id": "OGZdW1hR8IOv",
        "colab": {
          "base_uri": "https://localhost:8080/"
        },
        "outputId": "ddc1ef89-7aa6-41c9-efb8-822b3a507e85"
      },
      "outputs": [
        {
          "output_type": "stream",
          "name": "stdout",
          "text": [
            "Hello! Martina\n",
            "Hello!Hello!Hello!\n"
          ]
        }
      ],
      "source": [
        "# Basic string operations\n",
        "\n",
        "# Concatenation\n",
        "\n",
        "myGreeting = greeting + \" \" + myName\n",
        "print(myGreeting)\n",
        "\n",
        "# Replication\n",
        "\n",
        "print(greeting*3)\n"
      ]
    },
    {
      "cell_type": "markdown",
      "metadata": {
        "id": "vISC2GzX8IOw"
      },
      "source": [
        "### Booleans"
      ]
    },
    {
      "cell_type": "code",
      "execution_count": 26,
      "metadata": {
        "id": "8nfZUTPE8IOw",
        "colab": {
          "base_uri": "https://localhost:8080/"
        },
        "outputId": "4555b133-e78f-42f5-c613-8c887023006b"
      },
      "outputs": [
        {
          "output_type": "stream",
          "name": "stdout",
          "text": [
            "False\n",
            "False\n",
            "False\n",
            "True\n",
            "False\n",
            "-2\n"
          ]
        }
      ],
      "source": [
        "# Boolean values and expressions\n",
        "\n",
        "\n",
        "\n",
        "# Comparison operators\n",
        "print(3>5)\n",
        "print(2==1)\n",
        "\n",
        "# Logical operators\n",
        "print(True and False)\n",
        "\n",
        "print(True or False)\n",
        "\n",
        "print(not True)\n",
        "\n",
        "print(~ True)\n",
        "\n"
      ]
    },
    {
      "cell_type": "code",
      "source": [
        "#Declare a variable named myAge holding your Age. Print your age in 10 year.\n",
        "\n",
        "myAge = 25\n",
        "print (myAge+10)"
      ],
      "metadata": {
        "colab": {
          "base_uri": "https://localhost:8080/"
        },
        "id": "JoGApUXEw4u3",
        "outputId": "d6600595-4a5a-4b3d-819c-c8f7c9223d7f"
      },
      "execution_count": 29,
      "outputs": [
        {
          "output_type": "stream",
          "name": "stdout",
          "text": [
            "35\n"
          ]
        }
      ]
    },
    {
      "cell_type": "markdown",
      "metadata": {
        "id": "Ls34uCKV8IOw"
      },
      "source": [
        "## 3. Lists and Dictionaries"
      ]
    },
    {
      "cell_type": "markdown",
      "metadata": {
        "id": "yiYs7fuR8IOw"
      },
      "source": [
        "### Lists"
      ]
    },
    {
      "cell_type": "code",
      "execution_count": 47,
      "metadata": {
        "id": "ckgHMY-58IOx",
        "colab": {
          "base_uri": "https://localhost:8080/"
        },
        "outputId": "7ffa60ea-eb4b-471b-d5b6-dc436f736418"
      },
      "outputs": [
        {
          "output_type": "stream",
          "name": "stdout",
          "text": [
            "2\n",
            "4.5\n",
            "Hello\n",
            "[4.5, 'Martina', 1]\n",
            "[2, 4.5, 'Martina', 1]\n",
            "['Martina', 1, 'Hello']\n",
            "[2, 20, 'Martina', 1, 'Hello']\n",
            "[2, 20, 'Martina', 5, 1, 'Hello', 3]\n",
            "[2, 20, 'Martina', 5, 1, 'Hello', 3, 10, 5, 3, 'hi']\n"
          ]
        }
      ],
      "source": [
        "# Creating a list: collection of items\n",
        "\n",
        "myList = [2, 4.5, myName, 1, \"Hello\"]\n",
        "\n",
        "# Accessing items\n",
        "\n",
        "print(myList[0])\n",
        "print(myList[1])\n",
        "print(myList[-1])\n",
        "\n",
        "# Slicing\n",
        "print(myList[1:4])\n",
        "print(myList[:4])\n",
        "print(myList[2:])\n",
        "\n",
        "\n",
        "# Modifying lists\n",
        "myList[1] = 20\n",
        "print(myList)\n",
        "\n",
        "# Adding items\n",
        "myList.append(3)\n",
        "myList.insert(3,5)\n",
        "print(myList)\n",
        "print(myList + [10,5,3,\"hi\"])\n",
        "\n",
        "# Removing items\n",
        "\n",
        "myList.remove(20)"
      ]
    },
    {
      "cell_type": "markdown",
      "metadata": {
        "id": "uHL-5yFE8IOx"
      },
      "source": [
        "**The `range()`function**"
      ]
    },
    {
      "cell_type": "code",
      "execution_count": 60,
      "metadata": {
        "id": "oQDPmt8F8IOx",
        "colab": {
          "base_uri": "https://localhost:8080/"
        },
        "outputId": "bb2a9319-3b44-4b03-d906-ba6a7ef61306"
      },
      "outputs": [
        {
          "output_type": "stream",
          "name": "stdout",
          "text": [
            "[0, 1, 2, 3, 4, 5, 6, 7, 8, 9]\n"
          ]
        }
      ],
      "source": [
        "# Create a list from 0 to 9\n",
        "print(list(range(10)))"
      ]
    },
    {
      "cell_type": "markdown",
      "metadata": {
        "id": "upgxhpOP8IOx"
      },
      "source": [
        "**Exercise:**\n",
        "\n",
        "Suppose you have a list of gene sequences represented by strings of 'A', 'T', 'C', and 'G'. Your task is to add a new gene sequence to the list, remove a specific sequence, and finally, access a sequence to print it.\n"
      ]
    },
    {
      "cell_type": "code",
      "execution_count": 59,
      "metadata": {
        "id": "NdNssUaf8IOx",
        "colab": {
          "base_uri": "https://localhost:8080/"
        },
        "outputId": "30b7f92e-de90-4994-e30e-dbc0a5d53aa2"
      },
      "outputs": [
        {
          "output_type": "stream",
          "name": "stdout",
          "text": [
            "['ATCG', 'TCGA', 'CGAT', 'GCAT', 'GGTA']\n",
            "['ATCG', 'CGAT', 'GCAT', 'GGTA']\n",
            "GCAT\n"
          ]
        }
      ],
      "source": [
        "# Given list of gene sequences\n",
        "gene_sequences = [\"ATCG\", \"TCGA\", \"CGAT\", \"GCAT\"]\n",
        "\n",
        "# Add a new gene sequence \"GGTA\" to the list\n",
        "# Your code here\n",
        "\n",
        "gene_sequences.append(\"GGTA\")\n",
        "print(gene_sequences)\n",
        "\n",
        "\n",
        "# Remove the gene sequence \"TCGA\" from the list\n",
        "# Your code here\n",
        "\n",
        "gene_sequences.remove(\"TCGA\")\n",
        "print(gene_sequences)\n",
        "\n",
        "# Access and print the third gene sequence in the list\n",
        "# Your code here\n",
        "\n",
        "print(gene_sequences[2])\n",
        "\n"
      ]
    },
    {
      "cell_type": "markdown",
      "metadata": {
        "id": "mfxuH5Ez8IOx"
      },
      "source": [
        "### Dictionaries"
      ]
    },
    {
      "cell_type": "code",
      "execution_count": null,
      "metadata": {
        "id": "-b0x5hAd8IOx"
      },
      "outputs": [],
      "source": [
        "# A dictionary is a collection of key-value pairs. It is unordered, changeable and indexed.\n",
        "# Creating a dictionary\n",
        "\n",
        "\n",
        "# Accessing items\n",
        "\n",
        "# Adding or updating\n",
        "\n",
        "\n",
        "# Removing items\n"
      ]
    },
    {
      "cell_type": "markdown",
      "metadata": {
        "id": "1Zeo8mLP8IOy"
      },
      "source": [
        "**Exercise:**\n",
        "\n",
        "Suppose you have a dataset containing information on vaccination coverage for a set of countries. A recent study updates the data as follows: Canada has a coverage of 82%, India of 57%, and new data is available for Australia with 67% vaccination coverage. Your task is to create a new dictionary for thenew data, to merge the two datasets into a single, updated dataset, then print the list of countries."
      ]
    },
    {
      "cell_type": "code",
      "execution_count": null,
      "metadata": {
        "id": "q2YX3dbP8IOy"
      },
      "outputs": [],
      "source": [
        "coverage_data = {\n",
        "    \"United States\": 70,\n",
        "    \"Canada\": 75,\n",
        "    \"Germany\": 80,\n",
        "    \"India\": 60,\n",
        "    \"Brazil\": 65\n",
        "}\n",
        "\n",
        "# Create a new dictionary 'new_data' with the new coverage data\n",
        "# your code here\n",
        "\n",
        "\n",
        "# Add the new coverage data to the existing coverage data\n",
        "# your code here\n",
        "\n",
        "# Remove the coverage data for \"India\"\n",
        "# your code here\n",
        "\n",
        "# Print the list of countries in the coverage data\n",
        "# your code here\n",
        "\n",
        "\n",
        "\n"
      ]
    }
  ],
  "metadata": {
    "kernelspec": {
      "display_name": "Python 3",
      "language": "python",
      "name": "python3"
    },
    "language_info": {
      "codemirror_mode": {
        "name": "ipython",
        "version": 3
      },
      "file_extension": ".py",
      "mimetype": "text/x-python",
      "name": "python",
      "nbconvert_exporter": "python",
      "pygments_lexer": "ipython3",
      "version": "3.8.5"
    },
    "colab": {
      "provenance": [],
      "include_colab_link": true
    }
  },
  "nbformat": 4,
  "nbformat_minor": 0
}