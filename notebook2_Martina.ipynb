{
  "cells": [
    {
      "cell_type": "markdown",
      "metadata": {
        "id": "view-in-github",
        "colab_type": "text"
      },
      "source": [
        "<a href=\"https://colab.research.google.com/github/MartinaGR/AMAX_school_2024/blob/main/notebook2_Martina.ipynb\" target=\"_parent\"><img src=\"https://colab.research.google.com/assets/colab-badge.svg\" alt=\"Open In Colab\"/></a>"
      ]
    },
    {
      "cell_type": "markdown",
      "metadata": {
        "id": "yHBYM2ZfqcQe"
      },
      "source": [
        "# Introduction to Python 2/2"
      ]
    },
    {
      "cell_type": "markdown",
      "metadata": {
        "id": "IIdag1lkqcQi"
      },
      "source": [
        "In this section, we dive into more advanced concepts of Python programming: iterations, conditions, and functions. Understanding these concepts will allow you to write more complex and efficient Python code, essential for data analysis and modeling tasks."
      ]
    },
    {
      "cell_type": "markdown",
      "metadata": {
        "id": "SsKUQ86FqcQj"
      },
      "source": [
        "## 1. Iterations"
      ]
    },
    {
      "cell_type": "markdown",
      "metadata": {
        "id": "w8jlf214qcQk"
      },
      "source": [
        "Iterations or loops allow for executing a block of code repeatedly. Python provides several loop mechanisms, such as `for` and `while` loops, to iterate over a sequence (like lists, tuples, or strings) or execute a block of code multiple times until a condition is met."
      ]
    },
    {
      "cell_type": "markdown",
      "metadata": {
        "id": "lmN1zIqYqcQl"
      },
      "source": [
        "### For Loops"
      ]
    },
    {
      "cell_type": "markdown",
      "metadata": {
        "id": "cg6YrlI9qcQl"
      },
      "source": [
        "The `for` loop in Python is used to iterate over the elements of a sequence. It's commonly used when you have a block of code which you want to repeat a fixed number of times.\n",
        "\n",
        "Syntax:\n",
        "\n",
        " `for element in list:`\n",
        "\n",
        "       instruction 1\n",
        "\n",
        "       instruction 2\n",
        "    \n",
        "       ..."
      ]
    },
    {
      "cell_type": "code",
      "execution_count": null,
      "metadata": {
        "id": "Nu3WjOK5qcQm"
      },
      "outputs": [],
      "source": []
    },
    {
      "cell_type": "markdown",
      "metadata": {
        "id": "AL1xapk2qcQn"
      },
      "source": [
        "### While Loops"
      ]
    },
    {
      "cell_type": "markdown",
      "metadata": {
        "id": "nW0taoopqcQn"
      },
      "source": [
        "The `while` loop in Python executes a block of code as long as a condition is true. It's used when you want to repeat a block of code an unknown number of times until a condition becomes false."
      ]
    },
    {
      "cell_type": "code",
      "execution_count": null,
      "metadata": {
        "id": "Mae5TCRgqcQo"
      },
      "outputs": [],
      "source": []
    },
    {
      "cell_type": "markdown",
      "metadata": {
        "id": "WmHv6zvSqcQo"
      },
      "source": [
        "**Exercise:**\n",
        "\n",
        "Print all even numbers from 0 to 20."
      ]
    },
    {
      "cell_type": "code",
      "execution_count": null,
      "metadata": {
        "id": "6Cn9CM-RqcQp"
      },
      "outputs": [],
      "source": [
        "# your code here"
      ]
    },
    {
      "cell_type": "markdown",
      "metadata": {
        "id": "wIClVoykqcQp"
      },
      "source": [
        "**Exercise:**\n",
        "\n",
        "Compute the average vaccine coverage from the previous exercise."
      ]
    },
    {
      "cell_type": "code",
      "execution_count": null,
      "metadata": {
        "id": "WuEItu0wqcQq"
      },
      "outputs": [],
      "source": [
        "# your code here"
      ]
    },
    {
      "cell_type": "markdown",
      "metadata": {
        "id": "XlyO6rDsqcQq"
      },
      "source": [
        "## 2. Conditions"
      ]
    },
    {
      "cell_type": "markdown",
      "metadata": {
        "id": "msDSCOWXqcQq"
      },
      "source": [
        "Conditions in Python are used to execute a block of code if a specific condition is true. You can control the flow of your program with conditional statements: `if`, `elif`, and `else`."
      ]
    },
    {
      "cell_type": "code",
      "execution_count": null,
      "metadata": {
        "id": "iocigQhNqcQr"
      },
      "outputs": [],
      "source": []
    },
    {
      "cell_type": "markdown",
      "metadata": {
        "id": "RAkav4TzqcQr"
      },
      "source": [
        "**Exercise:**\n",
        "\n",
        "Compute the average vaccine coverage for EUropean coutries from the previous exercise."
      ]
    },
    {
      "cell_type": "code",
      "execution_count": null,
      "metadata": {
        "id": "_YNWzkGWqcQr"
      },
      "outputs": [],
      "source": [
        "# Here's a set of European Countries\n",
        "european_countries = {\"Austria\", \"Belgium\", \"Bulgaria\", \"Croatia\", \"Cyprus\", \"Czech Republic\", \"Denmark\", \"Estonia\",\n",
        "                      \"Finland\", \"France\", \"Germany\", \"Greece\", \"Hungary\", \"Ireland\", \"Italy\", \"Latvia\", \"Lithuania\",\n",
        "                      \"Luxembourg\", \"Malta\", \"Netherlands\", \"Poland\", \"Portugal\", \"Romania\", \"Slovakia\", \"Slovenia\",\n",
        "                      \"Spain\", \"Sweden\"}\n",
        "\n",
        "# your code here\n"
      ]
    },
    {
      "cell_type": "markdown",
      "metadata": {
        "id": "wNzvOEQjqcQr"
      },
      "source": [
        "## 3. Functions"
      ]
    },
    {
      "cell_type": "markdown",
      "metadata": {
        "id": "54VQG48RqcQs"
      },
      "source": [
        "A function is a reusable block of code which performs operations specified in the function. They let you break down tasks and allow you to reuse your code in different programs.\n",
        "\n",
        "There are two types of functions :\n",
        "\n",
        "*   <b>Pre-defined functions</b>\n",
        "*   <b>User defined functions</b>\n",
        "\n"
      ]
    },
    {
      "cell_type": "code",
      "execution_count": null,
      "metadata": {
        "id": "cUIWGyW1qcQs"
      },
      "outputs": [],
      "source": [
        "# Examples of predefined functions"
      ]
    },
    {
      "cell_type": "markdown",
      "metadata": {
        "id": "ROFYgzeUqcQs"
      },
      "source": [
        "You define a function using the `def` keyword, followed by the function name, parentheses, and a colon. The indented block of code following the colon is run when the function is called."
      ]
    },
    {
      "cell_type": "code",
      "execution_count": null,
      "metadata": {
        "id": "7GxvbbZoqcQs"
      },
      "outputs": [],
      "source": []
    },
    {
      "cell_type": "markdown",
      "metadata": {
        "id": "SbdiK7OlqcQt"
      },
      "source": [
        "Calling the function"
      ]
    },
    {
      "cell_type": "code",
      "execution_count": null,
      "metadata": {
        "id": "pzlbMbbuqcQt"
      },
      "outputs": [],
      "source": []
    },
    {
      "cell_type": "markdown",
      "metadata": {
        "id": "9MYiWNzbqcQt"
      },
      "source": [
        "**Exercise:**\n",
        "\n",
        "Write a function that, given a dictionary of country-coverage value pairs, returns the average coverage in the dictionary."
      ]
    },
    {
      "cell_type": "code",
      "execution_count": null,
      "metadata": {
        "id": "n1-BygTkqcQt"
      },
      "outputs": [],
      "source": []
    },
    {
      "cell_type": "markdown",
      "metadata": {
        "id": "WHNX_AVKqcQu"
      },
      "source": [
        "Rewrite the previous exrcises using the function you defined above."
      ]
    },
    {
      "cell_type": "code",
      "execution_count": null,
      "metadata": {
        "id": "eV_PyAstqcQu"
      },
      "outputs": [],
      "source": []
    }
  ],
  "metadata": {
    "kernelspec": {
      "display_name": "Python 3",
      "language": "python",
      "name": "python3"
    },
    "language_info": {
      "codemirror_mode": {
        "name": "ipython",
        "version": 3
      },
      "file_extension": ".py",
      "mimetype": "text/x-python",
      "name": "python",
      "nbconvert_exporter": "python",
      "pygments_lexer": "ipython3",
      "version": "3.8.5"
    },
    "colab": {
      "provenance": [],
      "include_colab_link": true
    }
  },
  "nbformat": 4,
  "nbformat_minor": 0
}