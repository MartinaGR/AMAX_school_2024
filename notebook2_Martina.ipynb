{
  "cells": [
    {
      "cell_type": "markdown",
      "metadata": {
        "id": "view-in-github",
        "colab_type": "text"
      },
      "source": [
        "<a href=\"https://colab.research.google.com/github/MartinaGR/AMAX_school_2024/blob/main/notebook2_Martina.ipynb\" target=\"_parent\"><img src=\"https://colab.research.google.com/assets/colab-badge.svg\" alt=\"Open In Colab\"/></a>"
      ]
    },
    {
      "cell_type": "markdown",
      "metadata": {
        "id": "yHBYM2ZfqcQe"
      },
      "source": [
        "# Introduction to Python 2/2"
      ]
    },
    {
      "cell_type": "markdown",
      "metadata": {
        "id": "IIdag1lkqcQi"
      },
      "source": [
        "In this section, we dive into more advanced concepts of Python programming: iterations, conditions, and functions. Understanding these concepts will allow you to write more complex and efficient Python code, essential for data analysis and modeling tasks."
      ]
    },
    {
      "cell_type": "markdown",
      "metadata": {
        "id": "SsKUQ86FqcQj"
      },
      "source": [
        "## 1. Iterations"
      ]
    },
    {
      "cell_type": "markdown",
      "metadata": {
        "id": "w8jlf214qcQk"
      },
      "source": [
        "Iterations or loops allow for executing a block of code repeatedly. Python provides several loop mechanisms, such as `for` and `while` loops, to iterate over a sequence (like lists, tuples, or strings) or execute a block of code multiple times until a condition is met."
      ]
    },
    {
      "cell_type": "markdown",
      "metadata": {
        "id": "lmN1zIqYqcQl"
      },
      "source": [
        "### For Loops"
      ]
    },
    {
      "cell_type": "markdown",
      "metadata": {
        "id": "cg6YrlI9qcQl"
      },
      "source": [
        "The `for` loop in Python is used to iterate over the elements of a sequence. It's commonly used when you have a block of code which you want to repeat a fixed number of times.\n",
        "\n",
        "Syntax:\n",
        "\n",
        " `for element in list:`\n",
        "\n",
        "       instruction 1\n",
        "\n",
        "       instruction 2\n",
        "    \n",
        "       ..."
      ]
    },
    {
      "cell_type": "code",
      "execution_count": 20,
      "metadata": {
        "id": "Nu3WjOK5qcQm",
        "colab": {
          "base_uri": "https://localhost:8080/"
        },
        "outputId": "e2b72f9a-42ce-4125-a972-8a54b84bfd5f"
      },
      "outputs": [
        {
          "output_type": "stream",
          "name": "stdout",
          "text": [
            "hello hello \n",
            "!\n",
            "how how \n",
            "!\n",
            "are are \n",
            "!\n",
            "you you \n",
            "!\n"
          ]
        }
      ],
      "source": [
        "words = ['hello', 'how', 'are', 'you']\n",
        "\n",
        "for i in words:\n",
        "  print((i+\" \")*2)\n",
        "  print(\"!\")"
      ]
    },
    {
      "cell_type": "markdown",
      "metadata": {
        "id": "AL1xapk2qcQn"
      },
      "source": [
        "### While Loops"
      ]
    },
    {
      "cell_type": "markdown",
      "metadata": {
        "id": "nW0taoopqcQn"
      },
      "source": [
        "The `while` loop in Python executes a block of code as long as a condition is true. It's used when you want to repeat a block of code an unknown number of times until a condition becomes false."
      ]
    },
    {
      "cell_type": "code",
      "execution_count": 24,
      "metadata": {
        "id": "Mae5TCRgqcQo",
        "colab": {
          "base_uri": "https://localhost:8080/"
        },
        "outputId": "bb61e9f0-b2e7-4795-dbbb-4abf713cad06"
      },
      "outputs": [
        {
          "output_type": "stream",
          "name": "stdout",
          "text": [
            "0\n",
            "1\n",
            "2\n",
            "3\n",
            "4\n"
          ]
        }
      ],
      "source": [
        "# while (condition)\n",
        "  # do some instruction\n",
        "\n",
        "counter = 0\n",
        "\n",
        "while (counter <5 ):\n",
        "   print(counter)\n",
        "   counter = counter +1\n",
        "\n"
      ]
    },
    {
      "cell_type": "markdown",
      "metadata": {
        "id": "WmHv6zvSqcQo"
      },
      "source": [
        "**Exercise:**\n",
        "\n",
        "Print all even numbers from 0 to 20."
      ]
    },
    {
      "cell_type": "code",
      "execution_count": 27,
      "metadata": {
        "id": "6Cn9CM-RqcQp",
        "colab": {
          "base_uri": "https://localhost:8080/"
        },
        "outputId": "7e52ec82-b85b-4b21-b25a-5f635db27f88"
      },
      "outputs": [
        {
          "output_type": "stream",
          "name": "stdout",
          "text": [
            "[0, 1, 2, 3, 4, 5, 6, 7, 8, 9, 10, 11, 12, 13, 14, 15, 16, 17, 18, 19, 20]\n"
          ]
        }
      ],
      "source": [
        "# your code here\n",
        "x = list(range(21))\n",
        "print(x)\n",
        "\n"
      ]
    },
    {
      "cell_type": "code",
      "source": [
        "for i in range(11):\n",
        "  print(i*2)\n",
        "\n"
      ],
      "metadata": {
        "colab": {
          "base_uri": "https://localhost:8080/"
        },
        "id": "kG77xjMwo-_z",
        "outputId": "0e5c6e30-caf0-416c-b31d-44beade11850"
      },
      "execution_count": 35,
      "outputs": [
        {
          "output_type": "stream",
          "name": "stdout",
          "text": [
            "0\n",
            "2\n",
            "4\n",
            "6\n",
            "8\n",
            "10\n",
            "12\n",
            "14\n",
            "16\n",
            "18\n",
            "20\n"
          ]
        }
      ]
    },
    {
      "cell_type": "markdown",
      "metadata": {
        "id": "wIClVoykqcQp"
      },
      "source": [
        "**Exercise:**\n",
        "\n",
        "Compute the average vaccine coverage from the previous exercise."
      ]
    },
    {
      "cell_type": "code",
      "execution_count": 116,
      "metadata": {
        "id": "WuEItu0wqcQq",
        "colab": {
          "base_uri": "https://localhost:8080/"
        },
        "outputId": "5ce19c35-d352-4478-c13a-ba99d7a78c17"
      },
      "outputs": [
        {
          "output_type": "stream",
          "name": "stdout",
          "text": [
            "70.16666666666667\n"
          ]
        }
      ],
      "source": [
        "# your code here\n",
        "coverage_data = {\n",
        "    'United States': 70,\n",
        "    'Canada': 82,\n",
        "    'Germany': 80,\n",
        "    'India': 57,\n",
        "    'Brazil': 65,\n",
        "    'Belgium': 67}\n",
        "\n",
        "# print the average vaccination rate\n",
        "sum = 0\n",
        "y = len(coverage_data.values()) # number of  countries\n",
        "\n",
        "\n",
        "for i in coverage_data.values():\n",
        "  sum = sum + i\n",
        "\n",
        "average = sum/y\n",
        "print(average)\n"
      ]
    },
    {
      "cell_type": "code",
      "source": [
        "coverage_data = {\n",
        "    \"United States\": 70,\n",
        "    \"Canada\": 75,\n",
        "    \"Germany\": 80,\n",
        "    \"India\": 60,\n",
        "    \"Brazil\": 65\n",
        "}\n",
        "\n",
        "# print the average vaccination rate\n",
        "sum = 0\n",
        "y = len(coverage_data.values())\n",
        "\n",
        "print(y)"
      ],
      "metadata": {
        "colab": {
          "base_uri": "https://localhost:8080/"
        },
        "id": "_SWuY1Tmrdhn",
        "outputId": "75319dcf-82c1-4890-c653-3f7f247fe27b"
      },
      "execution_count": 90,
      "outputs": [
        {
          "output_type": "stream",
          "name": "stdout",
          "text": [
            "5\n"
          ]
        }
      ]
    },
    {
      "cell_type": "markdown",
      "metadata": {
        "id": "XlyO6rDsqcQq"
      },
      "source": [
        "## 2. Conditions"
      ]
    },
    {
      "cell_type": "markdown",
      "metadata": {
        "id": "msDSCOWXqcQq"
      },
      "source": [
        "Conditions in Python are used to execute a block of code if a specific condition is true. You can control the flow of your program with conditional statements: `if`, `elif`, and `else`."
      ]
    },
    {
      "cell_type": "code",
      "execution_count": 76,
      "metadata": {
        "id": "iocigQhNqcQr",
        "colab": {
          "base_uri": "https://localhost:8080/"
        },
        "outputId": "88d17f88-2c35-48b7-f906-e2ceb0a95f81"
      },
      "outputs": [
        {
          "output_type": "stream",
          "name": "stdout",
          "text": [
            "Adult\n"
          ]
        }
      ],
      "source": [
        "# conditional sintax\n",
        "# if(codition):\n",
        "#    instruction 1\n",
        "# else\n",
        "#    instruction 2\n",
        "\n",
        "age = 25\n",
        "\n",
        "if age <= 18 :\n",
        "  print(\"Minor\")\n",
        "elif age <= 65:\n",
        "  print('Adult')\n",
        "else:\n",
        "  print(\"Senior\")\n"
      ]
    },
    {
      "cell_type": "markdown",
      "metadata": {
        "id": "RAkav4TzqcQr"
      },
      "source": [
        "**Exercise:**\n",
        "\n",
        "Compute the average vaccine coverage for European coutries from the previous exercise."
      ]
    },
    {
      "cell_type": "code",
      "execution_count": 103,
      "metadata": {
        "id": "_YNWzkGWqcQr",
        "colab": {
          "base_uri": "https://localhost:8080/"
        },
        "outputId": "1037c634-346d-484e-8d5f-cf3a2ec44658"
      },
      "outputs": [
        {
          "output_type": "stream",
          "name": "stdout",
          "text": [
            "73.5\n"
          ]
        }
      ],
      "source": [
        "# Here's a set of European Countries\n",
        "european_countries = {\"Austria\", \"Belgium\", \"Bulgaria\", \"Croatia\", \"Cyprus\", \"Czech Republic\", \"Denmark\", \"Estonia\",\n",
        "                      \"Finland\", \"France\", \"Germany\", \"Greece\", \"Hungary\", \"Ireland\", \"Italy\", \"Latvia\", \"Lithuania\",\n",
        "                      \"Luxembourg\", \"Malta\", \"Netherlands\", \"Poland\", \"Portugal\", \"Romania\", \"Slovakia\", \"Slovenia\",\n",
        "                      \"Spain\", \"Sweden\"}\n",
        "\n",
        "# your code here\n",
        "sum = 0\n",
        "y = 0\n",
        "\n",
        "for i in coverage_data.keys():\n",
        "  if (i in european_countries):\n",
        "    sum = coverage_data[i] + sum\n",
        "    y = y + 1\n",
        "\n",
        "print(sum/y)\n"
      ]
    },
    {
      "cell_type": "markdown",
      "metadata": {
        "id": "wNzvOEQjqcQr"
      },
      "source": [
        "## 3. Functions"
      ]
    },
    {
      "cell_type": "markdown",
      "metadata": {
        "id": "54VQG48RqcQs"
      },
      "source": [
        "A function is a reusable block of code which performs operations specified in the function. They let you break down tasks and allow you to reuse your code in different programs.\n",
        "\n",
        "There are two types of functions :\n",
        "\n",
        "*   <b>Pre-defined functions</b>\n",
        "*   <b>User defined functions</b>\n",
        "\n"
      ]
    },
    {
      "cell_type": "code",
      "execution_count": 104,
      "metadata": {
        "id": "cUIWGyW1qcQs",
        "colab": {
          "base_uri": "https://localhost:8080/"
        },
        "outputId": "1f5c113c-a6e7-4f5d-b6de-2375b1a91b69"
      },
      "outputs": [
        {
          "output_type": "stream",
          "name": "stdout",
          "text": [
            "hello!\n"
          ]
        },
        {
          "output_type": "execute_result",
          "data": {
            "text/plain": [
              "[1, 2, 3, 4]"
            ]
          },
          "metadata": {},
          "execution_count": 104
        }
      ],
      "source": [
        "# Examples of predefined functions\n",
        "print(\"hello!\")\n",
        "\n",
        "myList = [1,2,3]\n",
        "myList.append(4)\n",
        "myList\n"
      ]
    },
    {
      "cell_type": "markdown",
      "metadata": {
        "id": "ROFYgzeUqcQs"
      },
      "source": [
        "You define a function using the `def` keyword, followed by the function name, parentheses, and a colon. The indented block of code following the colon is run when the function is called."
      ]
    },
    {
      "cell_type": "code",
      "execution_count": 113,
      "metadata": {
        "id": "7GxvbbZoqcQs"
      },
      "outputs": [],
      "source": [
        "def add_one(n):\n",
        "  m = n + 1\n",
        "  print(n , \"plus one equals\", m)\n",
        "  return \"Adition\""
      ]
    },
    {
      "cell_type": "markdown",
      "metadata": {
        "id": "SbdiK7OlqcQt"
      },
      "source": [
        "Calling the function"
      ]
    },
    {
      "cell_type": "code",
      "execution_count": 114,
      "metadata": {
        "id": "pzlbMbbuqcQt",
        "colab": {
          "base_uri": "https://localhost:8080/",
          "height": 52
        },
        "outputId": "ced0fb67-34f0-4dd3-b5aa-ffd100170e9b"
      },
      "outputs": [
        {
          "output_type": "stream",
          "name": "stdout",
          "text": [
            "5 plus one equals 6\n"
          ]
        },
        {
          "output_type": "execute_result",
          "data": {
            "text/plain": [
              "'Adition'"
            ],
            "application/vnd.google.colaboratory.intrinsic+json": {
              "type": "string"
            }
          },
          "metadata": {},
          "execution_count": 114
        }
      ],
      "source": [
        "add_one(5)"
      ]
    },
    {
      "cell_type": "markdown",
      "metadata": {
        "id": "9MYiWNzbqcQt"
      },
      "source": [
        "**Exercise:**\n",
        "\n",
        "Write a function that, given a dictionary of country-coverage value pairs, returns the average coverage in the dictionary."
      ]
    },
    {
      "cell_type": "code",
      "execution_count": 134,
      "metadata": {
        "id": "n1-BygTkqcQt"
      },
      "outputs": [],
      "source": [
        "def average_coverage(dictionary):\n",
        "  sum = 0\n",
        "  for i in dictionary.values():\n",
        "    sum = i + sum\n",
        "  y = len(dictionary.values())\n",
        "  return (sum/y)\n"
      ]
    },
    {
      "cell_type": "code",
      "source": [
        "average_coverage(coverage_data)"
      ],
      "metadata": {
        "colab": {
          "base_uri": "https://localhost:8080/"
        },
        "id": "BW7h1lLu2_Py",
        "outputId": "d9b6bea6-8102-4883-dff5-bbcb0a0b022a"
      },
      "execution_count": 137,
      "outputs": [
        {
          "output_type": "execute_result",
          "data": {
            "text/plain": [
              "70.16666666666667"
            ]
          },
          "metadata": {},
          "execution_count": 137
        }
      ]
    },
    {
      "cell_type": "markdown",
      "metadata": {
        "id": "WHNX_AVKqcQu"
      },
      "source": [
        "Rewrite the previous exercises using the function you defined above."
      ]
    },
    {
      "cell_type": "code",
      "execution_count": null,
      "metadata": {
        "id": "eV_PyAstqcQu"
      },
      "outputs": [],
      "source": []
    }
  ],
  "metadata": {
    "kernelspec": {
      "display_name": "Python 3",
      "language": "python",
      "name": "python3"
    },
    "language_info": {
      "codemirror_mode": {
        "name": "ipython",
        "version": 3
      },
      "file_extension": ".py",
      "mimetype": "text/x-python",
      "name": "python",
      "nbconvert_exporter": "python",
      "pygments_lexer": "ipython3",
      "version": "3.8.5"
    },
    "colab": {
      "provenance": [],
      "include_colab_link": true
    }
  },
  "nbformat": 4,
  "nbformat_minor": 0
}